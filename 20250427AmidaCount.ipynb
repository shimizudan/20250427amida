{
 "cells": [
  {
   "cell_type": "markdown",
   "id": "a4a666e8-d30a-4883-ab87-cd6e1fd84291",
   "metadata": {},
   "source": [
    "[@tsatie](https://x.com/tsatie) さんのあみだくじのコードを高速化してみました。\n",
    "\n",
    "https://github.com/tsatie/SatieGitHubTest/blob/master/20250426AmidaCount.ipynb\n",
    "\n",
    "あまり良くは理解していませんが，ChatGPT 4o-mini-highを用いました。\n",
    "\n",
    "ポイントもまとめてもらいました。\n",
    "\n",
    "\n",
    "以下が高速化のキモとなるポイントです。\n",
    "\n",
    "1.\t全列挙→DP（動的計画法）への置き換え\n",
    "\t- 元コードは長さ L=2a+n のビット列を全パターン 2^L 生成していたが、DP では「現在の高さ」と「現在の並び（perm）」の状態ごとに通り数をまとめて管理。\n",
    "\t- 各ステップで状態数分の遷移を行うだけなので、実質的には O(L \\times \\text{\\#状態}) の計算量に抑えられる。\n",
    "2.\t状態の要約： (高さ, perm)\n",
    "\t- 高さ（現在の累積和）と、縦線の並び替え結果を表す perm（長さ n のベクトル）をキーにしてカウントを保持。\n",
    "\t- 同じ状態が重複して現れたら、その都度再計算せずにカウントを足し合わせることで枝刈りと重複除去を同時に実現。\n",
    "3.\t遷移の単純化\n",
    "\t- 「上へ（+1）」と「下へ（−1）＋スワップ」の２種類だけを考慮。\n",
    "\t- 各状態から最大２つの遷移しか呼び出さないため、１ステップあたりの計算が極めて軽量。\n",
    "4.\t最終ステップだけ特別扱い\n",
    "\t- 最後の１ステップは「高さが n-1 → +1 して n になるもの」を一括で集計。\n",
    "\t- 余分な状態を生成せず、集計ループも一回で済む。\n",
    "5.\tオンラインでの統計更新\n",
    "\t- 最終状態ごとにそのまま stat[i, perm[i]+1] を累積。\n",
    "\t- 別途、全パターンを列挙してから置換を適用する必要がなく、メモリ／時間の両面で効率的。\n",
    "\n",
    "⸻\n",
    "\n",
    "これらの工夫により、元の 2^{28} 程度の全探索が瞬時に終了するようになりました。\n",
    "\n",
    "\n",
    "＜以下は(@tsatie)[https://x.com/tsatie] さんのコード作成の説明です＞\n",
    "\n",
    "# 標準的な「あみだくじ」でどの筋を選ぶとどの筋に至るかを数える\n",
    "### Python で組んだものを Claude にお願いして Julia に書き換えて貰った\n",
    "数え方の要領は, 「あみだくじ」は「行きつ戻りつ」と1:1に対応する（らしい）事を利用している。\n",
    "\n",
    "例えば, 筋は5本で横線が4本とすれば, $5+4\\times2−1$ 回の移動で, 筋から隣の筋への移動をして, 左端から右端まで動くことを「行きつ戻りつ」と表現しよう。\n",
    "筋を左から 0,1,2,3,4 とでもすれば, 例えば 0→1→0→1→0→1→0→1→0→1→2→3→4 のように5つの筋を「行きつ戻りつ」して最終的に到達するということ。\n",
    "確かに「戻る」動き(この例では1→0しかない)が4回あることが確認できる。そしてこの「戻る」動きがあみだくじの置換に対応するというアイデアなのだ。\n",
    "\n",
    "プログラムの概要は以下の通り。筋の数は tn 横棒の数は an としている。\n",
    "+ 「行きつ戻りつ」を探るために2進数を総当たりして, 行きつ戻りつで辿り着くものを拾う\n",
    "  - 先ず2進数を順に当たる\n",
    "  - 文字列化して 0,1 の配列に直し 各項を2倍して1引くことで, -1,1の配列にする\n",
    "  - その上で配列の先頭からの部分和が 0以上で tn 以下であるもので, 全体和が tn となる（つまり最後では端に到達する）ものを拾う\n",
    "+ 拾えたらその「行きつ戻りつ」でどの順に筋を経由するかのリストを作成してそこから「あみだくじ」の置換を拾う\n",
    "  - 「行きつ戻りつ」の行程で「戻る」ときにその2筋を交換していることになる\n",
    "  - 筋の経由リストから「戻る」部分をピックアップして, 筋の置換を列挙した配列を作る\n",
    "  - できた置換の配列で順に置換することで, 選んだ筋と結果到達する筋のリストを作成する\n",
    "+ 「選んだ筋」と「到達する筋」の2次元配列に該当するものを足していく\n",
    "+ 最終的に分布が得られる。"
   ]
  },
  {
   "cell_type": "code",
   "execution_count": 1,
   "id": "588220a5",
   "metadata": {},
   "outputs": [
    {
     "data": {
      "text/plain": [
       "calculate_amidakuji_distribution (generic function with 1 method)"
      ]
     },
     "metadata": {},
     "output_type": "display_data"
    }
   ],
   "source": [
    "function calculate_amidakuji_distribution(tn, an)\n",
    "    # tn: number of vertical lines, an: number of horizontal bars\n",
    "    ln = 2*an + tn  # total steps\n",
    "\n",
    "    # Initialize DP: map (height, perm) to count of ways\n",
    "    dp = Dict{Tuple{Int, Vector{Int}}, Int}()\n",
    "    dp[(0, collect(0:tn-1))] = 1\n",
    "\n",
    "    # Iterate through the first ln-1 steps\n",
    "    for step in 1:ln-1\n",
    "        new_dp = Dict{Tuple{Int, Vector{Int}}, Int}()\n",
    "        for ((h, perm), c) in dp\n",
    "            # Up step (+1)\n",
    "            if h + 1 <= tn - 1\n",
    "                key_up = (h + 1, perm)\n",
    "                new_dp[key_up] = get(new_dp, key_up, 0) + c\n",
    "            end\n",
    "            # Down step (-1) and swap if h >= 1\n",
    "            if h >= 1\n",
    "                newh = h - 1\n",
    "                perm2 = copy(perm)\n",
    "                # Swap columns h and h+1 (1-indexed swap of perm entries)\n",
    "                perm2[h], perm2[h+1] = perm2[h+1], perm2[h]\n",
    "                key_dn = (newh, perm2)\n",
    "                new_dp[key_dn] = get(new_dp, key_dn, 0) + c\n",
    "            end\n",
    "        end\n",
    "        dp = new_dp\n",
    "    end\n",
    "\n",
    "    # Final step: only +1 moves that end at height == tn\n",
    "    stat = zeros(Int, tn, tn)\n",
    "    total = 0\n",
    "    for ((h, perm), c) in dp\n",
    "        if h == tn - 1\n",
    "            # Apply final +1 => final height = tn\n",
    "            total += c\n",
    "            for i in 1:tn\n",
    "                stat[i, perm[i]+1] += c\n",
    "            end\n",
    "        end\n",
    "    end\n",
    "\n",
    "    # Output\n",
    "    println(\"--start---------------------------------------\")\n",
    "    println(\"$tn $an\")\n",
    "    println(\"--Ans-------------------------------------------\")\n",
    "    println(total)\n",
    "    for i in 1:tn\n",
    "        println(stat[i, :])\n",
    "    end\n",
    "    println(\"--end-------------------------------------------\")\n",
    "end\n"
   ]
  },
  {
   "cell_type": "code",
   "execution_count": 2,
   "id": "daa0cbc4",
   "metadata": {},
   "outputs": [
    {
     "name": "stdout",
     "output_type": "stream",
     "text": [
      "--start---------------------------------------\n",
      "5 8\n",
      "--Ans-------------------------------------------\n",
      "9841\n",
      "[4322, 2422, 1627, 1009, 461]\n",
      "[2422, 2506, 2171, 1733, 1009]\n",
      "[1627, 2171, 2245, 2171, 1627]\n",
      "[1009, 1733, 2171, 2506, 2422]\n",
      "[461, 1009, 1627, 2422, 4322]\n",
      "--end-------------------------------------------\n"
     ]
    }
   ],
   "source": [
    "calculate_amidakuji_distribution(5, 8)"
   ]
  },
  {
   "cell_type": "code",
   "execution_count": 24,
   "id": "5531d65f",
   "metadata": {},
   "outputs": [
    {
     "name": "stdout",
     "output_type": "stream",
     "text": [
      "--start---------------------------------------\n",
      "8 10\n",
      "--Ans-------------------------------------------\n",
      "1282735\n",
      "[764877, 279584, 133631, 64604, 27257, 9481, 2693, 608]\n",
      "[279584, 478114, 262307, 147260, 72988, 29809, 9980, 2693]\n",
      "[133631, 262307, 365985, 252938, 153368, 75216, 29809, 9481]\n",
      "[64604, 147260, 252938, 314118, 250202, 153368, 72988, 27257]\n",
      "[27257, 72988, 153368, 250202, 314118, 252938, 147260, 64604]\n",
      "[9481, 29809, 75216, 153368, 252938, 365985, 262307, 133631]\n",
      "[2693, 9980, 29809, 72988, 147260, 262307, 478114, 279584]\n",
      "[608, 2693, 9481, 27257, 64604, 133631, 279584, 764877]\n",
      "--end-------------------------------------------\n"
     ]
    }
   ],
   "source": [
    "calculate_amidakuji_distribution(8, 10)"
   ]
  },
  {
   "cell_type": "code",
   "execution_count": 25,
   "id": "c2982da7-3d3b-4aac-b9ad-634cffe1a63c",
   "metadata": {},
   "outputs": [
    {
     "name": "stdout",
     "output_type": "stream",
     "text": [
      "--start---------------------------------------\n",
      "8 12\n",
      "--Ans-------------------------------------------\n",
      "16131656\n",
      "[9188341, 3508269, 1778834, 939616, 451633, 184261, 63000, 17702]\n",
      "[3508269, 5568480, 3238722, 1961381, 1086206, 507952, 197646, 63000]\n",
      "[1778834, 3238722, 4168532, 3074842, 2048283, 1130230, 507952, 184261]\n",
      "[939616, 1961381, 3074842, 3550353, 3019342, 2048283, 1086206, 451633]\n",
      "[451633, 1086206, 2048283, 3019342, 3550353, 3074842, 1961381, 939616]\n",
      "[184261, 507952, 1130230, 2048283, 3074842, 4168532, 3238722, 1778834]\n",
      "[63000, 197646, 507952, 1086206, 1961381, 3238722, 5568480, 3508269]\n",
      "[17702, 63000, 184261, 451633, 939616, 1778834, 3508269, 9188341]\n",
      "--end-------------------------------------------\n"
     ]
    }
   ],
   "source": [
    "calculate_amidakuji_distribution(8,12)"
   ]
  },
  {
   "cell_type": "code",
   "execution_count": 26,
   "id": "0262ee7a-f9d7-491c-bce6-b7cf222f7f68",
   "metadata": {},
   "outputs": [
    {
     "name": "stdout",
     "output_type": "stream",
     "text": [
      "--start---------------------------------------\n",
      "8 20\n",
      "--Ans-------------------------------------------\n",
      "393151913464\n",
      "[189723516102, 83314065040, 49329548957, 31599142379, 19875091516, 11372795389, 5626371851, 2311382230]\n",
      "[83314065040, 105606954285, 72716790819, 52653359557, 37020754687, 23496158993, 12717458232, 5626371851]\n",
      "[49329548957, 72716790819, 77637484780, 66208709033, 53600482213, 38789943280, 23496158993, 11372795389]\n",
      "[31599142379, 52653359557, 66208709033, 68259312069, 63935062010, 53600482213, 37020754687, 19875091516]\n",
      "[19875091516, 37020754687, 53600482213, 63935062010, 68259312069, 66208709033, 52653359557, 31599142379]\n",
      "[11372795389, 23496158993, 38789943280, 53600482213, 66208709033, 77637484780, 72716790819, 49329548957]\n",
      "[5626371851, 12717458232, 23496158993, 37020754687, 52653359557, 72716790819, 105606954285, 83314065040]\n",
      "[2311382230, 5626371851, 11372795389, 19875091516, 31599142379, 49329548957, 83314065040, 189723516102]\n",
      "--end-------------------------------------------\n"
     ]
    }
   ],
   "source": [
    "calculate_amidakuji_distribution(8,20)"
   ]
  },
  {
   "cell_type": "code",
   "execution_count": 4,
   "id": "2d2a2126",
   "metadata": {},
   "outputs": [
    {
     "name": "stdout",
     "output_type": "stream",
     "text": [
      "9841\n"
     ]
    }
   ],
   "source": [
    "function amidakuji_count_dp(n::Int, k::Int)\n",
    "    steps = n + 2k - 1\n",
    "    max_pos = n - 1\n",
    "\n",
    "    # dp[step][pos]\n",
    "    dp = zeros(BigInt, steps + 1, n)\n",
    "\n",
    "    # 初期状態\n",
    "    dp[0+1, 0+1] = 1  # (step=0, pos=0)\n",
    "\n",
    "    for step in 1:steps\n",
    "        for pos in 0:max_pos\n",
    "            current = dp[step-1+1, pos+1]\n",
    "\n",
    "            if pos > 0\n",
    "                dp[step+1, pos-1+1] += current  # 左に移動\n",
    "            end\n",
    "            if pos < max_pos\n",
    "                dp[step+1, pos+1+1] += current  # 右に移動\n",
    "            end\n",
    "        end\n",
    "    end\n",
    "\n",
    "    return dp[steps+1, max_pos+1]\n",
    "end\n",
    "\n",
    "# 例\n",
    "println(amidakuji_count_dp(5, 8))  # -> 正しい値が出る"
   ]
  },
  {
   "cell_type": "code",
   "execution_count": 6,
   "id": "bd632134",
   "metadata": {},
   "outputs": [
    {
     "name": "stderr",
     "output_type": "stream",
     "text": [
      "┌ Warning: could not download https://pkg.julialang.org/registries\n",
      "│   exception = Downloads.RequestError(\"https://pkg.julialang.org/registries\", 7, \"Failed to connect to jp.pkg.julialang.org port 443 after 210 ms: Couldn't connect to server\", Downloads.Response(\"https\", \"https://jp.pkg.julialang.org/registries\", 301, \"HTTP/2 301\", [\"server\" => \"Varnish\", \"retry-after\" => \"0\", \"location\" => \"https://jp.pkg.julialang.org/registries\", \"x-geo-continent\" => \"AS\", \"x-geo-country\" => \"JP\", \"x-geo-region\" => \"13\", \"accept-ranges\" => \"bytes\", \"date\" => \"Tue, 29 Apr 2025 02:22:33 GMT\", \"via\" => \"1.1 varnish\", \"x-served-by\" => \"cache-tyo11920-TYO\", \"x-cache\" => \"HIT\", \"x-cache-hits\" => \"0\", \"x-timer\" => \"S1745893353.407184,VS0,VE0\", \"content-length\" => \"0\"]))\n",
      "└ @ Pkg.Registry /Users/shimizudan/.julia/juliaup/julia-1.11.5+0.aarch64.apple.darwin14/share/julia/stdlib/v1.11/Pkg/src/Registry/Registry.jl:77\n",
      "\u001b[32m\u001b[1m    Updating\u001b[22m\u001b[39m registry at `~/.julia/registries/General.toml`\n",
      "\u001b[32m\u001b[1m   Resolving\u001b[22m\u001b[39m package versions...\n",
      "\u001b[32m\u001b[1m    Updating\u001b[22m\u001b[39m `~/.julia/environments/v1.11/Project.toml`\n",
      "  \u001b[90m[a93c6f00] \u001b[39m\u001b[92m+ DataFrames v1.7.0\u001b[39m\n",
      "\u001b[32m\u001b[1m    Updating\u001b[22m\u001b[39m `~/.julia/environments/v1.11/Manifest.toml`\n",
      "  \u001b[90m[a93c6f00] \u001b[39m\u001b[92m+ DataFrames v1.7.0\u001b[39m\n",
      "  \u001b[90m[842dd82b] \u001b[39m\u001b[92m+ InlineStrings v1.4.3\u001b[39m\n",
      "  \u001b[90m[41ab1584] \u001b[39m\u001b[92m+ InvertedIndices v1.3.1\u001b[39m\n",
      "  \u001b[90m[2dfb63ee] \u001b[39m\u001b[92m+ PooledArrays v1.4.3\u001b[39m\n",
      "\u001b[92m\u001b[1mPrecompiling\u001b[22m\u001b[39m project...\n",
      "  24029.8 ms\u001b[32m  ✓ \u001b[39mDataFrames\n",
      "   1542.0 ms\u001b[32m  ✓ \u001b[39m\u001b[90mLatexify → DataFramesExt\u001b[39m\n",
      "   2246.4 ms\u001b[32m  ✓ \u001b[39m\u001b[90mPlotlyBase → DataFramesExt\u001b[39m\n",
      "  3 dependencies successfully precompiled in 28 seconds. 410 already precompiled.\n"
     ]
    }
   ],
   "source": [
    "import Pkg; Pkg.add(\"DataFrames\")"
   ]
  },
  {
   "cell_type": "code",
   "execution_count": 7,
   "id": "e2cac066",
   "metadata": {},
   "outputs": [
    {
     "name": "stdout",
     "output_type": "stream",
     "text": [
      "\u001b[1m20×7 DataFrame\u001b[0m\n",
      "\u001b[1m Row \u001b[0m│\u001b[1m k     \u001b[0m\u001b[1m n=3     \u001b[0m\u001b[1m n=4       \u001b[0m\u001b[1m n=5        \u001b[0m\u001b[1m n=6         \u001b[0m\u001b[1m n=7          \u001b[0m\u001b[1m n=8          \u001b[0m\n",
      "     │\u001b[90m Int64 \u001b[0m\u001b[90m BigInt  \u001b[0m\u001b[90m BigInt    \u001b[0m\u001b[90m BigInt     \u001b[0m\u001b[90m BigInt      \u001b[0m\u001b[90m BigInt       \u001b[0m\u001b[90m BigInt       \u001b[0m\n",
      "─────┼────────────────────────────────────────────────────────────────────────────────\n",
      "   1 │     1        2          3           4            5             6             7\n",
      "   2 │     2        4          8          13           19            26            34\n",
      "   3 │     3        8         21          40           66           100           143\n",
      "   4 │     4       16         55         121          221           364           560\n",
      "   5 │     5       32        144         364          728          1288          2108\n",
      "   6 │     6       64        377        1093         2380          4488          7752\n",
      "   7 │     7      128        987        3280         7753         15504         28101\n",
      "   8 │     8      256       2584        9841        25213         53296        100947\n",
      "   9 │     9      512       6765       29524        81927        182688        360526\n",
      "  10 │    10     1024      17711       88573       266110        625184       1282735\n",
      "  11 │    11     2048      46368      265720       864201       2137408       4552624\n",
      "  12 │    12     4096     121393      797161      2806272       7303360      16131656\n",
      "  13 │    13     8192     317811     2391484      9112264      24946816      57099056\n",
      "  14 │    14    16384     832040     7174453     29587889      85196928     201962057\n",
      "  15 │    15    32768    2178309    21523360     96072133     290926848     714012495\n",
      "  16 │    16    65536    5702887    64570081    311945595     993379072    2523515514\n",
      "  17 │    17   131072   14930352   193710244   1012883066    3391793664    8916942687\n",
      "  18 │    18   262144   39088169   581130733   3288813893   11580678656   31504028992\n",
      "  19 │    19   524288  102334155  1743392200  10678716664   39539651584  111295205284\n",
      "  20 │    20  1048576  267914296  5230176601  34673583028  134998297600  393151913464\n"
     ]
    }
   ],
   "source": [
    "using DataFrames\n",
    "\n",
    "# 先ほど作ったamidakuji_count_dpをもう一度定義しておく\n",
    "function amidakuji_count_dp(n::Int, k::Int)\n",
    "    steps = n + 2k - 1\n",
    "    max_pos = n - 1\n",
    "\n",
    "    dp = zeros(BigInt, steps + 1, n)\n",
    "    dp[1, 1] = 1  # (step=0, pos=0)\n",
    "\n",
    "    for step in 1:steps\n",
    "        for pos in 0:max_pos\n",
    "            current = dp[step, pos+1]\n",
    "            if pos > 0\n",
    "                dp[step+1, pos-1+1] += current\n",
    "            end\n",
    "            if pos < max_pos\n",
    "                dp[step+1, pos+1+1] += current\n",
    "            end\n",
    "        end\n",
    "    end\n",
    "\n",
    "    return dp[steps+1, max_pos+1]\n",
    "end\n",
    "\n",
    "# 表を作る\n",
    "k_range = 1:20\n",
    "n_range = 3:8\n",
    "\n",
    "# 中身をためる\n",
    "table = DataFrame(k = k_range)\n",
    "\n",
    "for n in n_range\n",
    "    values = [amidakuji_count_dp(n, k) for k in k_range]\n",
    "    table[!, \"n=$n\"] = values\n",
    "end\n",
    "\n",
    "# 表示\n",
    "println(table)"
   ]
  },
  {
   "cell_type": "code",
   "execution_count": 1,
   "id": "562f0f84",
   "metadata": {},
   "outputs": [
    {
     "data": {
      "text/plain": [
       "calculate_amidakuji_distribution (generic function with 1 method)"
      ]
     },
     "metadata": {},
     "output_type": "display_data"
    }
   ],
   "source": [
    "using PrettyTables\n",
    "\n",
    "function calculate_amidakuji_distribution(tn::Int, an::Int)\n",
    "    ln = 2*an + tn\n",
    "\n",
    "    dp = Dict{Tuple{Int, Vector{Int}}, BigInt}()\n",
    "    dp[(0, collect(0:tn-1))] = 1\n",
    "\n",
    "    for step in 1:ln-1\n",
    "        new_dp = Dict{Tuple{Int, Vector{Int}}, BigInt}()\n",
    "        for ((h, perm), c) in dp\n",
    "            if h + 1 <= tn - 1\n",
    "                key_up = (h + 1, perm)\n",
    "                new_dp[key_up] = get(new_dp, key_up, 0) + c\n",
    "            end\n",
    "            if h >= 1\n",
    "                newh = h - 1\n",
    "                perm2 = copy(perm)\n",
    "                perm2[h], perm2[h+1] = perm2[h+1], perm2[h]\n",
    "                key_dn = (newh, perm2)\n",
    "                new_dp[key_dn] = get(new_dp, key_dn, 0) + c\n",
    "            end\n",
    "        end\n",
    "        dp = new_dp\n",
    "    end\n",
    "\n",
    "    stat = zeros(BigInt, tn, tn)\n",
    "    total = 0\n",
    "\n",
    "    for ((h, perm), c) in dp\n",
    "        if h == tn - 1\n",
    "            total += c\n",
    "            for i in 1:tn\n",
    "                stat[i, perm[i]+1] += c\n",
    "            end\n",
    "        end\n",
    "    end\n",
    "\n",
    "    println(\"\\n🧮 あみだくじ統計 (n = $tn, k = $an)\")\n",
    "    println(\"=============================================\")\n",
    "    println(\"🔢 総パターン数: $total\\n\")\n",
    "\n",
    "    println(\"📊 ゴール別マッピング (回数)\")\n",
    "    pretty_table(stat; \n",
    "        header=[\"Start $(i+1)\" for i in 0:tn-1],\n",
    "        row_labels=[\"Goal $(i+1)\" for i in 0:tn-1],\n",
    "        compact_printing=false\n",
    "    )\n",
    "\n",
    "    println(\"\\n📈 ゴール別マッピング (確率 %)\")\n",
    "    percents = 100 .* stat ./ total\n",
    "    percents_float = Float64.(percents)\n",
    "    pretty_table(round.(percents_float; digits=3);\n",
    "        header=[\"Start $(i+1)\" for i in 0:tn-1],\n",
    "        row_labels=[\"Goal $(i+1)\" for i in 0:tn-1],\n",
    "        compact_printing=false\n",
    "    )\n",
    "\n",
    "    println(\"=============================================\\n\")\n",
    "end"
   ]
  },
  {
   "cell_type": "code",
   "execution_count": 3,
   "id": "a260c61f",
   "metadata": {},
   "outputs": [
    {
     "name": "stdout",
     "output_type": "stream",
     "text": [
      "\n",
      "🧮 あみだくじ統計 (n = 8, k = 10)\n",
      "=============================================\n",
      "🔢 総パターン数: 1282735\n",
      "\n",
      "📊 ゴール別マッピング (回数)\n",
      "┌────────┬─────────┬─────────┬─────────┬─────────┬─────────┬─────────┬─────────┬─────────┐\n",
      "│\u001b[1m        \u001b[0m│\u001b[1m Start 1 \u001b[0m│\u001b[1m Start 2 \u001b[0m│\u001b[1m Start 3 \u001b[0m│\u001b[1m Start 4 \u001b[0m│\u001b[1m Start 5 \u001b[0m│\u001b[1m Start 6 \u001b[0m│\u001b[1m Start 7 \u001b[0m│\u001b[1m Start 8 \u001b[0m│\n",
      "├────────┼─────────┼─────────┼─────────┼─────────┼─────────┼─────────┼─────────┼─────────┤\n",
      "│\u001b[1m Goal 1 \u001b[0m│  764877 │  279584 │  133631 │   64604 │   27257 │    9481 │    2693 │     608 │\n",
      "│\u001b[1m Goal 2 \u001b[0m│  279584 │  478114 │  262307 │  147260 │   72988 │   29809 │    9980 │    2693 │\n",
      "│\u001b[1m Goal 3 \u001b[0m│  133631 │  262307 │  365985 │  252938 │  153368 │   75216 │   29809 │    9481 │\n",
      "│\u001b[1m Goal 4 \u001b[0m│   64604 │  147260 │  252938 │  314118 │  250202 │  153368 │   72988 │   27257 │\n",
      "│\u001b[1m Goal 5 \u001b[0m│   27257 │   72988 │  153368 │  250202 │  314118 │  252938 │  147260 │   64604 │\n",
      "│\u001b[1m Goal 6 \u001b[0m│    9481 │   29809 │   75216 │  153368 │  252938 │  365985 │  262307 │  133631 │\n",
      "│\u001b[1m Goal 7 \u001b[0m│    2693 │    9980 │   29809 │   72988 │  147260 │  262307 │  478114 │  279584 │\n",
      "│\u001b[1m Goal 8 \u001b[0m│     608 │    2693 │    9481 │   27257 │   64604 │  133631 │  279584 │  764877 │\n",
      "└────────┴─────────┴─────────┴─────────┴─────────┴─────────┴─────────┴─────────┴─────────┘\n",
      "\n",
      "📈 ゴール別マッピング (確率 %)\n",
      "┌────────┬─────────┬─────────┬─────────┬─────────┬─────────┬─────────┬─────────┬─────────┐\n",
      "│\u001b[1m        \u001b[0m│\u001b[1m Start 1 \u001b[0m│\u001b[1m Start 2 \u001b[0m│\u001b[1m Start 3 \u001b[0m│\u001b[1m Start 4 \u001b[0m│\u001b[1m Start 5 \u001b[0m│\u001b[1m Start 6 \u001b[0m│\u001b[1m Start 7 \u001b[0m│\u001b[1m Start 8 \u001b[0m│\n",
      "├────────┼─────────┼─────────┼─────────┼─────────┼─────────┼─────────┼─────────┼─────────┤\n",
      "│\u001b[1m Goal 1 \u001b[0m│  59.629 │  21.796 │  10.418 │   5.036 │   2.125 │   0.739 │    0.21 │   0.047 │\n",
      "│\u001b[1m Goal 2 \u001b[0m│  21.796 │  37.273 │  20.449 │   11.48 │    5.69 │   2.324 │   0.778 │    0.21 │\n",
      "│\u001b[1m Goal 3 \u001b[0m│  10.418 │  20.449 │  28.532 │  19.719 │  11.956 │   5.864 │   2.324 │   0.739 │\n",
      "│\u001b[1m Goal 4 \u001b[0m│   5.036 │   11.48 │  19.719 │  24.488 │  19.505 │  11.956 │    5.69 │   2.125 │\n",
      "│\u001b[1m Goal 5 \u001b[0m│   2.125 │    5.69 │  11.956 │  19.505 │  24.488 │  19.719 │   11.48 │   5.036 │\n",
      "│\u001b[1m Goal 6 \u001b[0m│   0.739 │   2.324 │   5.864 │  11.956 │  19.719 │  28.532 │  20.449 │  10.418 │\n",
      "│\u001b[1m Goal 7 \u001b[0m│    0.21 │   0.778 │   2.324 │    5.69 │   11.48 │  20.449 │  37.273 │  21.796 │\n",
      "│\u001b[1m Goal 8 \u001b[0m│   0.047 │    0.21 │   0.739 │   2.125 │   5.036 │  10.418 │  21.796 │  59.629 │\n",
      "└────────┴─────────┴─────────┴─────────┴─────────┴─────────┴─────────┴─────────┴─────────┘\n",
      "=============================================\n",
      "\n"
     ]
    }
   ],
   "source": [
    "calculate_amidakuji_distribution(8,10)"
   ]
  },
  {
   "cell_type": "code",
   "execution_count": 36,
   "id": "269ca1dc",
   "metadata": {},
   "outputs": [
    {
     "data": {
      "text/plain": [
       "calculate_amidakuji_distribution2 (generic function with 1 method)"
      ]
     },
     "metadata": {},
     "output_type": "display_data"
    }
   ],
   "source": [
    "\n",
    "function calculate_amidakuji_distribution2(tn::Int, an::Int)\n",
    "    ln = 2*an + tn\n",
    "\n",
    "    dp = Dict{Tuple{Int, Vector{Int}}, BigInt}()\n",
    "    dp[(0, collect(0:tn-1))] = 1\n",
    "\n",
    "    for step in 1:ln-1\n",
    "        new_dp = Dict{Tuple{Int, Vector{Int}}, BigInt}()\n",
    "        for ((h, perm), c) in dp\n",
    "            if h + 1 <= tn - 1\n",
    "                key_up = (h + 1, perm)\n",
    "                new_dp[key_up] = get(new_dp, key_up, 0) + c\n",
    "            end\n",
    "            if h >= 1\n",
    "                newh = h - 1\n",
    "                perm2 = copy(perm)\n",
    "                perm2[h], perm2[h+1] = perm2[h+1], perm2[h]\n",
    "                key_dn = (newh, perm2)\n",
    "                new_dp[key_dn] = get(new_dp, key_dn, 0) + c\n",
    "            end\n",
    "        end\n",
    "        dp = new_dp\n",
    "    end\n",
    "\n",
    "    stat = zeros(BigInt, tn, tn)\n",
    "    total = 0\n",
    "\n",
    "    for ((h, perm), c) in dp\n",
    "        if h == tn - 1\n",
    "            total += c\n",
    "            for i in 1:tn\n",
    "                stat[i, perm[i]+1] += c\n",
    "            end\n",
    "        end\n",
    "    end\n",
    "\n",
    "    println(\"\\n🧮 あみだくじ統計 (n = $tn, k = $an)\")\n",
    "    println(\"=============================================\")\n",
    "    println(\"🔢 総パターン数: $total\\n\")\n",
    "\n",
    "    # println(\"📊 ゴール別マッピング (回数)\")\n",
    "    # pretty_table(stat; \n",
    "    #     header=[\"Start $(i+1)\" for i in 0:tn-1],\n",
    "    #     row_labels=[\"Goal $(i+1)\" for i in 0:tn-1],\n",
    "    #     compact_printing=false\n",
    "    # )\n",
    "\n",
    "    println(\"\\n📈 ゴール別マッピング (確率 %)\")\n",
    "    percents = 100 .* stat ./ total\n",
    "    percents_float = Float64.(percents)\n",
    "    pretty_table(round.(percents_float; digits=3);\n",
    "        header=[\"Start $(i+1)\" for i in 0:tn-1],\n",
    "        row_labels=[\"Goal $(i+1)\" for i in 0:tn-1],\n",
    "        compact_printing=false\n",
    "    )\n",
    "\n",
    "    println(\"=============================================\\n\")\n",
    "end"
   ]
  },
  {
   "cell_type": "code",
   "execution_count": 37,
   "id": "5a8038d8",
   "metadata": {},
   "outputs": [
    {
     "name": "stdout",
     "output_type": "stream",
     "text": [
      "\n",
      "🧮 あみだくじ統計 (n = 10, k = 12)\n",
      "=============================================\n",
      "🔢 総パターン数: 60304951\n",
      "\n",
      "\n",
      "📈 ゴール別マッピング (確率 %)\n",
      "┌─────────┬─────────┬─────────┬─────────┬─────────┬─────────┬─────────┬─────────┬─────────┬─────────┬──────────┐\n",
      "│\u001b[1m         \u001b[0m│\u001b[1m Start 1 \u001b[0m│\u001b[1m Start 2 \u001b[0m│\u001b[1m Start 3 \u001b[0m│\u001b[1m Start 4 \u001b[0m│\u001b[1m Start 5 \u001b[0m│\u001b[1m Start 6 \u001b[0m│\u001b[1m Start 7 \u001b[0m│\u001b[1m Start 8 \u001b[0m│\u001b[1m Start 9 \u001b[0m│\u001b[1m Start 10 \u001b[0m│\n",
      "├─────────┼─────────┼─────────┼─────────┼─────────┼─────────┼─────────┼─────────┼─────────┼─────────┼──────────┤\n",
      "│\u001b[1m  Goal 1 \u001b[0m│  63.053 │   20.98 │   9.179 │   4.166 │   1.735 │   0.627 │   0.194 │   0.051 │   0.011 │    0.002 │\n",
      "│\u001b[1m  Goal 2 \u001b[0m│   20.98 │  41.528 │  19.881 │  10.029 │   4.708 │   1.926 │   0.678 │   0.205 │   0.053 │    0.011 │\n",
      "│\u001b[1m  Goal 3 \u001b[0m│   9.179 │  19.881 │  33.375 │  19.275 │  10.443 │   4.918 │   1.983 │   0.689 │   0.205 │    0.051 │\n",
      "│\u001b[1m  Goal 4 \u001b[0m│   4.166 │  10.029 │  19.275 │  29.081 │  19.015 │   10.61 │    4.97 │   1.983 │   0.678 │    0.194 │\n",
      "│\u001b[1m  Goal 5 \u001b[0m│   1.735 │   4.708 │  10.443 │  19.015 │  27.067 │  18.951 │   10.61 │   4.918 │   1.926 │    0.627 │\n",
      "│\u001b[1m  Goal 6 \u001b[0m│   0.627 │   1.926 │   4.918 │   10.61 │  18.951 │  27.067 │  19.015 │  10.443 │   4.708 │    1.735 │\n",
      "│\u001b[1m  Goal 7 \u001b[0m│   0.194 │   0.678 │   1.983 │    4.97 │   10.61 │  19.015 │  29.081 │  19.275 │  10.029 │    4.166 │\n",
      "│\u001b[1m  Goal 8 \u001b[0m│   0.051 │   0.205 │   0.689 │   1.983 │   4.918 │  10.443 │  19.275 │  33.375 │  19.881 │    9.179 │\n",
      "│\u001b[1m  Goal 9 \u001b[0m│   0.011 │   0.053 │   0.205 │   0.678 │   1.926 │   4.708 │  10.029 │  19.881 │  41.528 │    20.98 │\n",
      "│\u001b[1m Goal 10 \u001b[0m│   0.002 │   0.011 │   0.051 │   0.194 │   0.627 │   1.735 │   4.166 │   9.179 │   20.98 │   63.053 │\n",
      "└─────────┴─────────┴─────────┴─────────┴─────────┴─────────┴─────────┴─────────┴─────────┴─────────┴──────────┘\n",
      "=============================================\n",
      "\n"
     ]
    }
   ],
   "source": [
    "calculate_amidakuji_distribution2(10,12)"
   ]
  },
  {
   "cell_type": "code",
   "execution_count": null,
   "id": "c4b74a69",
   "metadata": {},
   "outputs": [],
   "source": []
  }
 ],
 "metadata": {
  "kernelspec": {
   "display_name": "Julia 1.11.5",
   "language": "julia",
   "name": "julia-1.11"
  },
  "language_info": {
   "file_extension": ".jl",
   "mimetype": "application/julia",
   "name": "julia",
   "version": "1.11.5"
  }
 },
 "nbformat": 4,
 "nbformat_minor": 5
}
